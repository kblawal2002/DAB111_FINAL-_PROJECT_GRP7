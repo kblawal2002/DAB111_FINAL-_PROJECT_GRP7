{
 "cells": [
  {
   "cell_type": "code",
   "execution_count": 1,
   "id": "7851efde-fe63-43ee-9a44-cfc79ae46942",
   "metadata": {
    "tags": []
   },
   "outputs": [],
   "source": [
    "import sqlite3\n",
    "import csv"
   ]
  },
  {
   "cell_type": "code",
   "execution_count": 2,
   "id": "9c121a04-2d3b-477b-9377-45adfa78a44c",
   "metadata": {
    "tags": []
   },
   "outputs": [],
   "source": [
    "con = sqlite3.connect('Nig_Housing.db')\n",
    "cursor = con.cursor()"
   ]
  },
  {
   "cell_type": "code",
   "execution_count": 4,
   "id": "fcb84914-34f9-4ff4-b539-55781cc77fd8",
   "metadata": {
    "tags": []
   },
   "outputs": [
    {
     "data": {
      "text/plain": [
       "<sqlite3.Cursor at 0x1e77418e5c0>"
      ]
     },
     "execution_count": 4,
     "metadata": {},
     "output_type": "execute_result"
    }
   ],
   "source": [
    "create_table = \"\"\"CREATE TABLE housing(\n",
    "                State TEXT,\n",
    "                Town TEXT,\n",
    "                House Type TEXT,\n",
    "                Bedrooms INTEGER,\n",
    "                Bathrooms INTEGER,\n",
    "                Toilets INTEGER,\n",
    "                Price INTEGER);\n",
    "                \"\"\"\n",
    "cursor.execute(create_table)"
   ]
  },
  {
   "cell_type": "code",
   "execution_count": 13,
   "id": "20f455b5-67a5-4b60-8635-9fd71adeec73",
   "metadata": {
    "tags": []
   },
   "outputs": [],
   "source": [
    "with open (\"Nig_Housing_Data.csv\") as f:\n",
    "    data = csv.reader(f)\n",
    "    for row in data:\n",
    "        #print(row)\n",
    "        if row[0] == \"State\":\n",
    "            continue\n",
    "        cursor.execute(\"INSERT INTO housing VALUES (?, ?, ?, ?, ?, ?, ?)\", (row[0], row[1], row[2],row[3], row[4], row[5], row[6]))\n",
    "        "
   ]
  },
  {
   "cell_type": "code",
   "execution_count": 14,
   "id": "176343de-dd2a-4305-b5aa-3ea1401620d9",
   "metadata": {
    "tags": []
   },
   "outputs": [
    {
     "data": {
      "text/plain": [
       "[('Abuja', 'Mabushi', 'Detached Duplex', 6, 5, 5, '450,000,000'),\n",
       " ('Abuja', 'Katampe', 'Terraced Duplexes', 4, 5, 5, '800,000,000'),\n",
       " ('Lagos', 'Lekki', 'Detached Duplex', 4, 5, 5, '120,000,000'),\n",
       " ('Lagos', 'Ajah', 'Detached Duplex', 4, 4, 5, '40,000,000'),\n",
       " ('Lagos', 'Lekki', 'Semi Detached Duplex', 4, 4, 5, '75,000,000'),\n",
       " ('Lagos', 'Lekki', 'Detached Duplex', 5, 5, 6, '450,000,000'),\n",
       " ('Lagos', 'Lekki', 'Detached Duplex', 4, 5, 5, '65,000,000'),\n",
       " ('Lagos', 'Epe', 'Detached Bungalow', 2, 2, 3, '12,000,000'),\n",
       " ('Lagos', 'Lekki', 'Detached Duplex', 1, 1, 1, '200,000,000'),\n",
       " ('Lagos', 'Ajah', 'Detached Duplex', 4, 4, 5, '60,000,000'),\n",
       " ('Abuja', 'Lokogoma District', 'Terraced Duplexes', 3, 4, 5, '25,000,000'),\n",
       " ('Edo', 'Oredo', 'Semi Detached Duplex', 6, 6, 6, '45,000,000'),\n",
       " ('Lagos', 'Lekki', 'Semi Detached Duplex', 4, 5, 6, '65,000,000'),\n",
       " ('Lagos', 'Lekki', 'Semi Detached Duplex', 4, 4, 5, '70,000,000'),\n",
       " ('Lagos', 'Victoria Island (VI)', 'Detached Duplex', 6, 6, 7, '450,000,000'),\n",
       " ('Ogun', 'Mowe Ofada', 'Detached Bungalow', 3, 4, 4, '12,000,000'),\n",
       " ('Lagos', 'Lekki', 'Terraced Duplexes', 4, 4, 5, '48,000,000'),\n",
       " ('Abuja', 'Lokogoma District', 'Detached Bungalow', 3, 3, 4, '37,000,000'),\n",
       " ('Lagos', 'Victoria Island (VI)', 'Detached Duplex', 4, 5, 5, '170,000,000'),\n",
       " ('Lagos', 'Ikeja', 'Block of Flats', 3, 3, 4, '350,000,000'),\n",
       " ('Lagos', 'Lekki', 'Detached Duplex', 5, 5, 6, '85,000,000'),\n",
       " ('Lagos', 'Lekki', 'Terraced Duplexes', 3, 3, 4, '34,000,000'),\n",
       " ('Lagos',\n",
       "  'Victoria Island (VI)',\n",
       "  'Terraced Duplexes',\n",
       "  4,\n",
       "  5,\n",
       "  5,\n",
       "  '130,000,000'),\n",
       " ('Abuja', 'Katampe', 'Detached Duplex', 5, 6, 7, '160,000,000'),\n",
       " ('Lagos', 'Ajah', 'Detached Duplex', 4, 4, 5, '60,000,000'),\n",
       " ('Lagos', 'Lekki', 'Detached Duplex', 5, 5, 5, '270,000,000'),\n",
       " ('Lagos', 'Lekki', 'Detached Duplex', 5, 6, 5, '250,000,000'),\n",
       " ('Lagos', 'Lekki', 'Detached Duplex', 4, 4, 5, '180,000,000'),\n",
       " ('Lagos', 'Lekki', 'Semi Detached Duplex', 4, 4, 5, '75,000,000'),\n",
       " ('Lagos', 'Lekki', 'Detached Duplex', 5, 5, 5, '270,000,000'),\n",
       " ('Lagos', 'Ikoyi', 'Detached Duplex', 6, 8, 8, '850,000,000'),\n",
       " ('Lagos', 'Magodo', 'Detached Duplex', 4, 4, 5, '140,000,000'),\n",
       " ('Lagos', 'Ikoyi', 'Detached Duplex', 5, 5, 6, '700,000,000'),\n",
       " ('Ogun', 'Mowe Ofada', 'Block of Flats', 2, 3, 5, '7,000,000'),\n",
       " ('Abuja', 'Kaura', 'Detached Duplex', 5, 5, 6, '150,000,000'),\n",
       " ('Abuja', 'Galadimawa', 'Detached Duplex', 4, 4, 5, '70,000,000'),\n",
       " ('Lagos', 'Ajah', 'Terraced Duplexes', 3, 5, 5, '40,000,000'),\n",
       " ('Edo', 'Oredo', 'Detached Duplex', 5, 5, 6, '70,000,000'),\n",
       " ('Lagos', 'Lekki', 'Detached Duplex', 5, 5, 6, '120,000,000'),\n",
       " ('Lagos', 'Lekki', 'Terraced Duplexes', 4, 4, 5, '55,000,000'),\n",
       " ('Abuja', 'Gwarinpa', 'Detached Duplex', 6, 6, 7, '130,000,000'),\n",
       " ('Abuja', 'Gwarinpa', 'Semi Detached Duplex', 4, 5, 5, '75,000,000'),\n",
       " ('Lagos', 'Lekki', 'Block of Flats', 2, 2, 3, '30,000,000'),\n",
       " ('Lagos', 'Lekki', 'Terraced Duplexes', 2, 2, 3, '53,000,000'),\n",
       " ('Lagos', 'Lekki', 'Detached Duplex', 5, 6, 6, '270,000,000'),\n",
       " ('Abuja', 'Katampe', 'Detached Bungalow', 5, 5, 5, '130,000,000'),\n",
       " ('Lagos', 'Lekki', 'Block of Flats', 3, 3, 4, '25,500,000'),\n",
       " ('Lagos', 'Magodo', 'Detached Duplex', 5, 5, 6, '235,000,000'),\n",
       " ('Lagos', 'Lekki', 'Terraced Duplexes', 3, 3, 4, '65,000,000'),\n",
       " ('Lagos', 'Lekki', 'Terraced Duplexes', 4, 4, 4, '55,000,000'),\n",
       " ('Lagos', 'Lekki', 'Detached Duplex', 5, 5, 6, '120,000,000'),\n",
       " ('Lagos', 'Lekki', 'Semi Detached Duplex', 4, 5, 5, '69,000,000'),\n",
       " ('Lagos', 'Lekki', 'Detached Duplex', 5, 5, 6, '105,000,000'),\n",
       " ('Lagos', 'Ajah', 'Semi Detached Duplex', 4, 4, 5, '60,000,000'),\n",
       " ('Lagos', 'Ikoyi', 'Detached Duplex', 5, 5, 6, '1,100,000,000'),\n",
       " ('Abuja', 'Gwarinpa', 'Detached Duplex', 5, 5, 6, '300,000,000'),\n",
       " ('Ogun', 'Abeokuta North', 'Detached Bungalow', 2, 2, 2, '4,000,000'),\n",
       " ('Lagos', 'Lekki', 'Detached Duplex', 5, 5, 6, '105,000,000'),\n",
       " ('Edo', 'Oredo', 'Block of Flats', 8, 8, 8, '36,000,000'),\n",
       " ('Abuja', 'Galadimawa', 'Semi Detached Duplex', 4, 4, 5, '50,000,000'),\n",
       " ('Lagos', 'Ajah', 'Semi Detached Duplex', 4, 5, 5, '60,000,000'),\n",
       " ('Lagos', 'Lekki', 'Detached Duplex', 5, 6, 7, '150,000,000'),\n",
       " ('Abuja', 'Lugbe District', 'Detached Duplex', 3, 4, 4, '30,000,000'),\n",
       " ('Lagos', 'Ajah', 'Detached Duplex', 5, 5, 6, '75,000,000'),\n",
       " ('Lagos', 'Ibeju Lekki', 'Semi Detached Bungalow', 2, 3, 3, '12,000,000'),\n",
       " ('Lagos', 'Lekki', 'Detached Duplex', 5, 5, 6, '110,000,000'),\n",
       " ('Lagos', 'Epe', 'Semi Detached Bungalow', 2, 2, 3, '12,000,000'),\n",
       " ('Lagos', 'Lekki', 'Detached Duplex', 5, 5, 6, '330,000,000'),\n",
       " ('Lagos', 'Ajah', 'Semi Detached Duplex', 4, 4, 5, '45,000,000'),\n",
       " ('Lagos', 'Ajah', 'Detached Duplex', 4, 4, 4, '50,000,000'),\n",
       " ('Lagos', 'Lekki', 'Detached Duplex', 5, 5, 6, '135,000,000'),\n",
       " ('Lagos', 'Yaba', 'Semi Detached Bungalow', 4, 2, 2, '40,000,000'),\n",
       " ('Lagos', 'Lekki', 'Detached Duplex', 5, 5, 6, '280,000,000'),\n",
       " ('Lagos', 'Lekki', 'Detached Duplex', 5, 5, 5, '150,000,000'),\n",
       " ('Lagos', 'Ikoyi', 'Block of Flats', 4, 5, 5, '650,000,000'),\n",
       " ('Abuja', 'Katampe', 'Terraced Duplexes', 4, 5, 6, '131,000,000'),\n",
       " ('Lagos', 'Lekki', 'Detached Duplex', 4, 4, 5, '85,000,000'),\n",
       " ('Lagos', 'Lekki', 'Detached Duplex', 5, 5, 6, '155,000,000'),\n",
       " ('Ogun', 'Sango Ota', 'Block of Flats', 1, 2, 2, '6,900,000'),\n",
       " ('Lagos', 'Ifako-Ijaiye', 'Detached Bungalow', 3, 3, 4, '12,500,000'),\n",
       " ('Lagos', 'Agege', 'Detached Duplex', 4, 4, 5, '60,000,000'),\n",
       " ('Lagos', 'Lekki', 'Terraced Duplexes', 4, 4, 5, '105,000,000'),\n",
       " ('Lagos', 'Lekki', 'Detached Duplex', 5, 5, 6, '100,000,000'),\n",
       " ('Lagos', 'Ikorodu', 'Block of Flats', 2, 5, 5, '22,500,000'),\n",
       " ('Abuja', 'Kaura', 'Terraced Duplexes', 5, 5, 6, '70,000,000'),\n",
       " ('Abuja', 'Jahi', 'Terraced Duplexes', 4, 5, 5, '75,000,000'),\n",
       " ('Lagos', 'Lekki', 'Detached Duplex', 4, 5, 5, '70,000,000'),\n",
       " ('Oyo', 'Ibadan', 'Detached Bungalow', 3, 3, 3, '10,000,000'),\n",
       " ('Ogun', 'Sango Ota', 'Terraced Bungalow', 4, 2, 2, '5,000,000'),\n",
       " ('Lagos', 'Lekki', 'Detached Duplex', 5, 5, 6, '145,000,000'),\n",
       " ('Abuja', 'Orozo', 'Detached Duplex', 4, 5, 5, '52,500,000'),\n",
       " ('Lagos', 'Lekki', 'Semi Detached Duplex', 4, 4, 5, '61,000,000'),\n",
       " ('Lagos', 'Lekki', 'Detached Duplex', 5, 5, 6, '110,000,000'),\n",
       " ('Ogun', 'Ifo', 'Detached Bungalow', 5, 5, 5, '15,000,000'),\n",
       " ('Imo', 'Owerri North', 'Detached Duplex', 5, 3, 3, '50,000,000'),\n",
       " ('Lagos', 'Lekki', 'Detached Duplex', 5, 6, 6, '260,000,000'),\n",
       " ('Lagos', 'Ajah', 'Terraced Duplexes', 4, 4, 5, '29,800,000'),\n",
       " ('Lagos', 'Lekki', 'Terraced Duplexes', 4, 5, 6, '145,000,000'),\n",
       " ('Lagos', 'Lekki', 'Semi Detached Duplex', 4, 4, 5, '150,000,000')]"
      ]
     },
     "execution_count": 14,
     "metadata": {},
     "output_type": "execute_result"
    }
   ],
   "source": [
    "cursor.execute(\"SELECT * FROM housing\").fetchall()"
   ]
  },
  {
   "cell_type": "code",
   "execution_count": 15,
   "id": "45478e72-028a-462f-928d-a80797d27b2b",
   "metadata": {
    "tags": []
   },
   "outputs": [],
   "source": [
    "con.commit()\n",
    "con.close()"
   ]
  },
  {
   "cell_type": "code",
   "execution_count": null,
   "id": "b78772c3-2bc6-46ad-bcef-2c169ea50e28",
   "metadata": {},
   "outputs": [],
   "source": []
  }
 ],
 "metadata": {
  "kernelspec": {
   "display_name": "Python 3 (ipykernel)",
   "language": "python",
   "name": "python3"
  },
  "language_info": {
   "codemirror_mode": {
    "name": "ipython",
    "version": 3
   },
   "file_extension": ".py",
   "mimetype": "text/x-python",
   "name": "python",
   "nbconvert_exporter": "python",
   "pygments_lexer": "ipython3",
   "version": "3.11.4"
  }
 },
 "nbformat": 4,
 "nbformat_minor": 5
}
